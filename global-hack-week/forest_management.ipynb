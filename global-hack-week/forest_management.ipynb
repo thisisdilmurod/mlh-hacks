{
  "nbformat": 4,
  "nbformat_minor": 0,
  "metadata": {
    "colab": {
      "provenance": []
    },
    "kernelspec": {
      "name": "python3",
      "display_name": "Python 3"
    },
    "language_info": {
      "name": "python"
    }
  },
  "cells": [
    {
      "cell_type": "markdown",
      "source": [
        "**Learning Markov Decision Process (MDP) Algorithm with the MDPToolBox Python Package**"
      ],
      "metadata": {
        "id": "piCnAuruFLa3"
      }
    },
    {
      "cell_type": "code",
      "source": [
        "! pip install pymdptoolbox"
      ],
      "metadata": {
        "colab": {
          "base_uri": "https://localhost:8080/"
        },
        "id": "RfrDcVDAFRfw",
        "outputId": "bcda419c-4f0e-4985-c4bf-d04df35d657d"
      },
      "execution_count": 1,
      "outputs": [
        {
          "output_type": "stream",
          "name": "stdout",
          "text": [
            "Looking in indexes: https://pypi.org/simple, https://us-python.pkg.dev/colab-wheels/public/simple/\n",
            "Collecting pymdptoolbox\n",
            "  Downloading pymdptoolbox-4.0-b3.zip (29 kB)\n",
            "  Preparing metadata (setup.py) ... \u001b[?25l\u001b[?25hdone\n",
            "Requirement already satisfied: numpy in /usr/local/lib/python3.8/dist-packages (from pymdptoolbox) (1.22.4)\n",
            "Requirement already satisfied: scipy in /usr/local/lib/python3.8/dist-packages (from pymdptoolbox) (1.10.1)\n",
            "Building wheels for collected packages: pymdptoolbox\n",
            "  Building wheel for pymdptoolbox (setup.py) ... \u001b[?25l\u001b[?25hdone\n",
            "  Created wheel for pymdptoolbox: filename=pymdptoolbox-4.0b3-py3-none-any.whl size=25655 sha256=7678a1587274be39e06b159e8a6ee1664c007d14dcfb59bfcd34a80fc3846eca\n",
            "  Stored in directory: /root/.cache/pip/wheels/85/c2/e4/29e0b5aab8da79e0f54cf086f8549d47c824e5242ae687e93a\n",
            "Successfully built pymdptoolbox\n",
            "Installing collected packages: pymdptoolbox\n",
            "Successfully installed pymdptoolbox-4.0b3\n"
          ]
        }
      ]
    },
    {
      "cell_type": "code",
      "source": [
        "import mdptoolbox.example\n",
        "import mdptoolbox.mdp\n",
        "import numpy as np"
      ],
      "metadata": {
        "id": "SAMj-kdBFXPH"
      },
      "execution_count": 2,
      "outputs": []
    },
    {
      "cell_type": "markdown",
      "source": [
        "**Forest Management Example**\n",
        "\n",
        "\n",
        "*   Trees can be either young, middle-aged, or old (states = 0, 1, 2)\n",
        "*   Each year, the trees get one stage older (S+1)\n",
        "*   Each year, there is a 10% chance that the whole forest burns down!\n",
        "*   If the forest burns down, you get nothing.\n",
        "*   If you cut down the trees, you get 0 points for a young one, 1 point for a middle-aged one, and 2 points for an old one\n",
        "*   If the forest reaches its oldest state, and you do not cut, you will receive 4 points!\n",
        "\n",
        "What's the best strategy, give these facts?\n"
      ],
      "metadata": {
        "id": "MylTghr1F29C"
      }
    },
    {
      "cell_type": "code",
      "source": [
        "#Defintions:\n",
        "'''\n",
        "S: The number of states, which should be an integer greater than 1. Default: 3.\n",
        "r: The reward when the forest is in its oldest state and action ‘Wait’ is performed. Default: 4.\n",
        "r2: The reward when the forest is in its oldest state and action ‘Cut’ is performed. Default: 2.\n",
        "p: The probability of wild fire occurence, in the range ]0, 1[. Default: 0.1.\n",
        "is_sparse: If True, then the probability transition matrices will be returned in sparse format, otherwise they will be in dense format. Default: False.\n",
        "'''"
      ],
      "metadata": {
        "colab": {
          "base_uri": "https://localhost:8080/",
          "height": 88
        },
        "id": "kAMJbsxkIkBE",
        "outputId": "4e814689-4b04-4020-9150-672ab3dd4584"
      },
      "execution_count": 5,
      "outputs": [
        {
          "output_type": "execute_result",
          "data": {
            "text/plain": [
              "'\\nS: The number of states, which should be an integer greater than 1. Default: 3.\\nr: The reward when the forest is in its oldest state and action ‘Wait’ is performed. Default: 4.\\nr2: The reward when the forest is in its oldest state and action ‘Cut’ is performed. Default: 2.\\np: The probability of wild fire occurence, in the range ]0, 1[. Default: 0.1.\\nis_sparse: If True, then the probability transition matrices will be returned in sparse format, otherwise they will be in dense format. Default: False.\\n'"
            ],
            "application/vnd.google.colaboratory.intrinsic+json": {
              "type": "string"
            }
          },
          "metadata": {},
          "execution_count": 5
        }
      ]
    },
    {
      "cell_type": "code",
      "source": [
        "# This function is used to generate a transition probability (A × S × S) array P and a reward (S × A) matrix R that model the following problem.\n",
        "P, R = mdptoolbox.example.forest(S=3, r1=4, r2=2, p=0.1, is_sparse=False)"
      ],
      "metadata": {
        "id": "BHBcURKLH3n0"
      },
      "execution_count": 24,
      "outputs": []
    },
    {
      "cell_type": "code",
      "source": [
        "P[0]"
      ],
      "metadata": {
        "colab": {
          "base_uri": "https://localhost:8080/"
        },
        "id": "cR6YkpAGJJvM",
        "outputId": "4bcecb7b-2353-4822-a251-ac39bc3be01f"
      },
      "execution_count": 6,
      "outputs": [
        {
          "output_type": "execute_result",
          "data": {
            "text/plain": [
              "array([[0.1, 0.9, 0. ],\n",
              "       [0.1, 0. , 0.9],\n",
              "       [0.1, 0. , 0.9]])"
            ]
          },
          "metadata": {},
          "execution_count": 6
        }
      ]
    },
    {
      "cell_type": "code",
      "source": [
        "P[1]"
      ],
      "metadata": {
        "colab": {
          "base_uri": "https://localhost:8080/"
        },
        "id": "qIEUU8rHJKrL",
        "outputId": "ba2dec06-189f-47b4-b453-1c9d462465a6"
      },
      "execution_count": 8,
      "outputs": [
        {
          "output_type": "execute_result",
          "data": {
            "text/plain": [
              "array([[1., 0., 0.],\n",
              "       [1., 0., 0.],\n",
              "       [1., 0., 0.]])"
            ]
          },
          "metadata": {},
          "execution_count": 8
        }
      ]
    },
    {
      "cell_type": "code",
      "source": [
        "print(P[0][0][1])"
      ],
      "metadata": {
        "colab": {
          "base_uri": "https://localhost:8080/"
        },
        "id": "wW_t8jFnJs9J",
        "outputId": "2bf912ef-5aeb-4a1e-a353-6b36987cf0ba"
      },
      "execution_count": 9,
      "outputs": [
        {
          "output_type": "stream",
          "name": "stdout",
          "text": [
            "0.9\n"
          ]
        }
      ]
    },
    {
      "cell_type": "code",
      "source": [
        "print(P[0][2][0])"
      ],
      "metadata": {
        "colab": {
          "base_uri": "https://localhost:8080/"
        },
        "id": "9UYUV0V1JzNF",
        "outputId": "d2130ce2-bfc5-46d9-a164-78338cb15190"
      },
      "execution_count": 10,
      "outputs": [
        {
          "output_type": "stream",
          "name": "stdout",
          "text": [
            "0.1\n"
          ]
        }
      ]
    },
    {
      "cell_type": "code",
      "source": [
        "R"
      ],
      "metadata": {
        "colab": {
          "base_uri": "https://localhost:8080/"
        },
        "id": "JF4pBdV0J6pF",
        "outputId": "0ef7d6dc-dc3e-4747-db21-e464570b6a6c"
      },
      "execution_count": 11,
      "outputs": [
        {
          "output_type": "execute_result",
          "data": {
            "text/plain": [
              "array([[0., 0.],\n",
              "       [0., 1.],\n",
              "       [4., 2.]])"
            ]
          },
          "metadata": {},
          "execution_count": 11
        }
      ]
    },
    {
      "cell_type": "code",
      "source": [
        "np.sum(np.multiply(R.T[0], [0, 0, 1]))"
      ],
      "metadata": {
        "colab": {
          "base_uri": "https://localhost:8080/"
        },
        "id": "K6vHiRZPJ9Yo",
        "outputId": "c3bd8ac8-e802-475c-bf0d-5451554b6d71"
      },
      "execution_count": 12,
      "outputs": [
        {
          "output_type": "execute_result",
          "data": {
            "text/plain": [
              "4.0"
            ]
          },
          "metadata": {},
          "execution_count": 12
        }
      ]
    },
    {
      "cell_type": "code",
      "source": [
        "np.sum(np.multiply(R.T[0], [1, 0, 0])) # youngest (S0)"
      ],
      "metadata": {
        "colab": {
          "base_uri": "https://localhost:8080/"
        },
        "id": "5hVfLubjKGTh",
        "outputId": "300f196a-1ecf-44b6-eb94-dba2258ea62a"
      },
      "execution_count": 16,
      "outputs": [
        {
          "output_type": "execute_result",
          "data": {
            "text/plain": [
              "0.0"
            ]
          },
          "metadata": {},
          "execution_count": 16
        }
      ]
    },
    {
      "cell_type": "code",
      "source": [
        "np.sum(np.multiply(R.T[0], [0, 1, 0])) # middle-aged (S1)"
      ],
      "metadata": {
        "colab": {
          "base_uri": "https://localhost:8080/"
        },
        "id": "3MLaAmf7KLem",
        "outputId": "240f287f-a12b-476c-f414-e77a77c20027"
      },
      "execution_count": 17,
      "outputs": [
        {
          "output_type": "execute_result",
          "data": {
            "text/plain": [
              "0.0"
            ]
          },
          "metadata": {},
          "execution_count": 17
        }
      ]
    },
    {
      "cell_type": "code",
      "source": [
        "model = mdptoolbox.mdp.QLearning(P, R, discount = 0.1)\n",
        "model.run()\n",
        "model.policy"
      ],
      "metadata": {
        "colab": {
          "base_uri": "https://localhost:8080/"
        },
        "id": "U9TGObXfKScq",
        "outputId": "e4e96c8b-772c-49cb-b947-5fce5c0befa0"
      },
      "execution_count": 18,
      "outputs": [
        {
          "output_type": "execute_result",
          "data": {
            "text/plain": [
              "(0, 1, 0)"
            ]
          },
          "metadata": {},
          "execution_count": 18
        }
      ]
    },
    {
      "cell_type": "code",
      "source": [
        "model.policy[0] # should we wait(0) or cut(1) for the youngest one?"
      ],
      "metadata": {
        "colab": {
          "base_uri": "https://localhost:8080/"
        },
        "id": "-SaIBgyTKoBj",
        "outputId": "2006a89d-341d-44c6-832f-58e8fbb4f341"
      },
      "execution_count": 19,
      "outputs": [
        {
          "output_type": "execute_result",
          "data": {
            "text/plain": [
              "0"
            ]
          },
          "metadata": {},
          "execution_count": 19
        }
      ]
    },
    {
      "cell_type": "code",
      "source": [
        "model.policy[1]"
      ],
      "metadata": {
        "colab": {
          "base_uri": "https://localhost:8080/"
        },
        "id": "NGZa2dzfKqnG",
        "outputId": "32c52872-3e57-4ef6-8bef-47772dab35e1"
      },
      "execution_count": 21,
      "outputs": [
        {
          "output_type": "execute_result",
          "data": {
            "text/plain": [
              "1"
            ]
          },
          "metadata": {},
          "execution_count": 21
        }
      ]
    }
  ]
}